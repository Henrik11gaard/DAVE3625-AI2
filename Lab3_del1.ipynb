{
 "cells": [
  {
   "cell_type": "markdown",
   "metadata": {},
   "source": [
    "Importerer bibliotekene(panda og faker). Legger til kredtitkort til faker"
   ]
  },
  {
   "cell_type": "code",
   "execution_count": 3,
   "metadata": {},
   "outputs": [],
   "source": [
    "from faker import Faker\n",
    "import pandas as pd\n",
    "\n",
    "from faker.providers.credit_card import Provider as CreditCardProvider "
   ]
  },
  {
   "cell_type": "markdown",
   "metadata": {},
   "source": [
    "Lager en liste kalt \"fake\" der det genereres navn, adresse, personNr, kreedittkort og ipv4"
   ]
  },
  {
   "cell_type": "code",
   "execution_count": 5,
   "metadata": {},
   "outputs": [],
   "source": [
    "fake = Faker(['no_NO']) "
   ]
  },
  {
   "cell_type": "markdown",
   "metadata": {},
   "source": [
    "lager en tom dataframe med kolonner tilsvarende listen"
   ]
  },
  {
   "cell_type": "code",
   "execution_count": 6,
   "metadata": {},
   "outputs": [],
   "source": [
    "df = pd.DataFrame(columns=['Navn','Adresse','PersonNr', 'CreditCard', 'ipv4']) # Create a empty df"
   ]
  },
  {
   "cell_type": "markdown",
   "metadata": {},
   "source": [
    "lager er en for-loop hvor de ulike funksjonene blir kalt opp og lagret i en rad. denne kjøres 100 ganger for lage 100 rader."
   ]
  },
  {
   "cell_type": "code",
   "execution_count": 7,
   "metadata": {},
   "outputs": [],
   "source": [
    "for i in range(100):\n",
    "    row = fake.name(),fake.address(),fake.ssn(),fake.credit_card_number(),fake.ipv4()\n",
    "    df.loc[i]=row"
   ]
  },
  {
   "cell_type": "markdown",
   "metadata": {},
   "source": [
    "Sjekker at tabellen ser riktig ut"
   ]
  },
  {
   "cell_type": "code",
   "execution_count": 13,
   "metadata": {},
   "outputs": [
    {
     "data": {
      "text/html": [
       "<div>\n",
       "<style scoped>\n",
       "    .dataframe tbody tr th:only-of-type {\n",
       "        vertical-align: middle;\n",
       "    }\n",
       "\n",
       "    .dataframe tbody tr th {\n",
       "        vertical-align: top;\n",
       "    }\n",
       "\n",
       "    .dataframe thead th {\n",
       "        text-align: right;\n",
       "    }\n",
       "</style>\n",
       "<table border=\"1\" class=\"dataframe\">\n",
       "  <thead>\n",
       "    <tr style=\"text-align: right;\">\n",
       "      <th></th>\n",
       "      <th>Navn</th>\n",
       "      <th>Adresse</th>\n",
       "      <th>PersonNr</th>\n",
       "      <th>CreditCard</th>\n",
       "      <th>ipv4</th>\n",
       "    </tr>\n",
       "  </thead>\n",
       "  <tbody>\n",
       "    <tr>\n",
       "      <th>0</th>\n",
       "      <td>Ivar-Helge Bakke</td>\n",
       "      <td>Holmmarka 46D, 4709 Ali</td>\n",
       "      <td>13038623839</td>\n",
       "      <td>2449669923919192</td>\n",
       "      <td>2.77.90.148</td>\n",
       "    </tr>\n",
       "    <tr>\n",
       "      <th>1</th>\n",
       "      <td>Anne-Marte Antonsen</td>\n",
       "      <td>Nielsenhagen 584, 5840 Simonsen</td>\n",
       "      <td>17039830922</td>\n",
       "      <td>4135312948737746</td>\n",
       "      <td>62.148.237.102</td>\n",
       "    </tr>\n",
       "    <tr>\n",
       "      <th>2</th>\n",
       "      <td>Jorunn-Aud Haug</td>\n",
       "      <td>Bergebråten 4, 2233 Hannaås</td>\n",
       "      <td>18094644751</td>\n",
       "      <td>6526695498615193</td>\n",
       "      <td>37.75.229.149</td>\n",
       "    </tr>\n",
       "    <tr>\n",
       "      <th>3</th>\n",
       "      <td>Marte Lunde</td>\n",
       "      <td>Martinsenalléen 16E, 3699 Bakken</td>\n",
       "      <td>15095143056</td>\n",
       "      <td>4935146671648009922</td>\n",
       "      <td>222.49.206.205</td>\n",
       "    </tr>\n",
       "    <tr>\n",
       "      <th>4</th>\n",
       "      <td>Svein Lie</td>\n",
       "      <td>Simonsenskogen 6, 1104 Solberg</td>\n",
       "      <td>26124202808</td>\n",
       "      <td>3511211009710830</td>\n",
       "      <td>139.25.208.97</td>\n",
       "    </tr>\n",
       "    <tr>\n",
       "      <th>...</th>\n",
       "      <td>...</td>\n",
       "      <td>...</td>\n",
       "      <td>...</td>\n",
       "      <td>...</td>\n",
       "      <td>...</td>\n",
       "    </tr>\n",
       "    <tr>\n",
       "      <th>95</th>\n",
       "      <td>Dr. Sondre Berntsen</td>\n",
       "      <td>Pedersenplassen 839, 6728 Petterberg</td>\n",
       "      <td>10037630123</td>\n",
       "      <td>374771133593818</td>\n",
       "      <td>114.4.149.47</td>\n",
       "    </tr>\n",
       "    <tr>\n",
       "      <th>96</th>\n",
       "      <td>Asbjørn Ali</td>\n",
       "      <td>Pettersentunet 45, 1977 Thomassen</td>\n",
       "      <td>30049632718</td>\n",
       "      <td>5245369603730634</td>\n",
       "      <td>5.229.104.215</td>\n",
       "    </tr>\n",
       "    <tr>\n",
       "      <th>97</th>\n",
       "      <td>Gunnar Isaksen-Hauge</td>\n",
       "      <td>Pettersenjordet 1, 1762 Trinestrand</td>\n",
       "      <td>25077640617</td>\n",
       "      <td>4327077608325904</td>\n",
       "      <td>210.116.216.39</td>\n",
       "    </tr>\n",
       "    <tr>\n",
       "      <th>98</th>\n",
       "      <td>Kristoffer Aasen</td>\n",
       "      <td>Halvorsenfaret 40, 2793 Eriksen</td>\n",
       "      <td>05057821819</td>\n",
       "      <td>630416347163</td>\n",
       "      <td>199.39.170.8</td>\n",
       "    </tr>\n",
       "    <tr>\n",
       "      <th>99</th>\n",
       "      <td>Arne Hagen-Ødegård</td>\n",
       "      <td>Vikbakken 83, 2656 Rasmussen</td>\n",
       "      <td>25058301798</td>\n",
       "      <td>349257476558651</td>\n",
       "      <td>72.63.250.149</td>\n",
       "    </tr>\n",
       "  </tbody>\n",
       "</table>\n",
       "<p>100 rows × 5 columns</p>\n",
       "</div>"
      ],
      "text/plain": [
       "                    Navn                               Adresse     PersonNr  \\\n",
       "0       Ivar-Helge Bakke               Holmmarka 46D, 4709 Ali  13038623839   \n",
       "1    Anne-Marte Antonsen       Nielsenhagen 584, 5840 Simonsen  17039830922   \n",
       "2        Jorunn-Aud Haug           Bergebråten 4, 2233 Hannaås  18094644751   \n",
       "3            Marte Lunde      Martinsenalléen 16E, 3699 Bakken  15095143056   \n",
       "4              Svein Lie        Simonsenskogen 6, 1104 Solberg  26124202808   \n",
       "..                   ...                                   ...          ...   \n",
       "95   Dr. Sondre Berntsen  Pedersenplassen 839, 6728 Petterberg  10037630123   \n",
       "96           Asbjørn Ali     Pettersentunet 45, 1977 Thomassen  30049632718   \n",
       "97  Gunnar Isaksen-Hauge   Pettersenjordet 1, 1762 Trinestrand  25077640617   \n",
       "98      Kristoffer Aasen       Halvorsenfaret 40, 2793 Eriksen  05057821819   \n",
       "99    Arne Hagen-Ødegård          Vikbakken 83, 2656 Rasmussen  25058301798   \n",
       "\n",
       "             CreditCard            ipv4  \n",
       "0      2449669923919192     2.77.90.148  \n",
       "1      4135312948737746  62.148.237.102  \n",
       "2      6526695498615193   37.75.229.149  \n",
       "3   4935146671648009922  222.49.206.205  \n",
       "4      3511211009710830   139.25.208.97  \n",
       "..                  ...             ...  \n",
       "95      374771133593818    114.4.149.47  \n",
       "96     5245369603730634   5.229.104.215  \n",
       "97     4327077608325904  210.116.216.39  \n",
       "98         630416347163    199.39.170.8  \n",
       "99      349257476558651   72.63.250.149  \n",
       "\n",
       "[100 rows x 5 columns]"
      ]
     },
     "execution_count": 13,
     "metadata": {},
     "output_type": "execute_result"
    }
   ],
   "source": [
    "df"
   ]
  },
  {
   "cell_type": "code",
   "execution_count": 12,
   "metadata": {},
   "outputs": [
    {
     "name": "stderr",
     "output_type": "stream",
     "text": [
      "C:\\Users\\henri\\AppData\\Local\\Temp\\ipykernel_21552\\3094120814.py:5: FutureWarning: Series.__getitem__ treating keys as positions is deprecated. In a future version, integer keys will always be treated as labels (consistent with DataFrame behavior). To access a value by position, use `ser.iloc[pos]`\n",
      "  name = row[0]\n",
      "C:\\Users\\henri\\AppData\\Local\\Temp\\ipykernel_21552\\3094120814.py:6: FutureWarning: Series.__getitem__ treating keys as positions is deprecated. In a future version, integer keys will always be treated as labels (consistent with DataFrame behavior). To access a value by position, use `ser.iloc[pos]`\n",
      "  adress = row[1]\n",
      "C:\\Users\\henri\\AppData\\Local\\Temp\\ipykernel_21552\\3094120814.py:7: FutureWarning: Series.__getitem__ treating keys as positions is deprecated. In a future version, integer keys will always be treated as labels (consistent with DataFrame behavior). To access a value by position, use `ser.iloc[pos]`\n",
      "  ssn = row[2]\n",
      "C:\\Users\\henri\\AppData\\Local\\Temp\\ipykernel_21552\\3094120814.py:8: FutureWarning: Series.__getitem__ treating keys as positions is deprecated. In a future version, integer keys will always be treated as labels (consistent with DataFrame behavior). To access a value by position, use `ser.iloc[pos]`\n",
      "  cc = row[3]\n"
     ]
    }
   ],
   "source": [
    "textArray = [] #Create a empty array\n",
    "for row in range(10):\n",
    "# Do a for loop, and assign values to name and adress\n",
    "    row=df.iloc[i]\n",
    "    name = row[0] \n",
    "    adress = row[1]\n",
    "    ssn = row[2]\n",
    "    cc = row[3]\n",
    "    #Using f string we can now create a new string with the values, and\n",
    "    #append (add) that string to the text array\n",
    "    textArray.append(f'Hi, my name is {name}. I wonder if you deliver to {adress}, my visa is {cc} and my ssn is {ssn}')"
   ]
  }
 ],
 "metadata": {
  "kernelspec": {
   "display_name": "lab3",
   "language": "python",
   "name": "python3"
  },
  "language_info": {
   "codemirror_mode": {
    "name": "ipython",
    "version": 3
   },
   "file_extension": ".py",
   "mimetype": "text/x-python",
   "name": "python",
   "nbconvert_exporter": "python",
   "pygments_lexer": "ipython3",
   "version": "3.11.5"
  },
  "orig_nbformat": 4
 },
 "nbformat": 4,
 "nbformat_minor": 2
}
