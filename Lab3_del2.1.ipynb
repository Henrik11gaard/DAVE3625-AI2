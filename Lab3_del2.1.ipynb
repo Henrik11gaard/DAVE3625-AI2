{
 "cells": [
  {
   "cell_type": "markdown",
   "metadata": {},
   "source": [
    "Importerer biblioteker"
   ]
  },
  {
   "cell_type": "code",
   "execution_count": 123,
   "metadata": {},
   "outputs": [],
   "source": [
    "%matplotlib inline\n",
    "import pandas as pd\n",
    "import numpy as np\n",
    "import matplotlib as plt\n",
    "import datetime"
   ]
  },
  {
   "cell_type": "markdown",
   "metadata": {},
   "source": [
    "lager variabel (url) og gir den plasseringen til datafilen.\n",
    "Lager en dataframe og bruker panda til å lese filen som en tabell"
   ]
  },
  {
   "cell_type": "code",
   "execution_count": 124,
   "metadata": {},
   "outputs": [],
   "source": [
    "url = \"C:/Users/henri/Downloads/flight.csv\"\n",
    "df = pd.read_csv(url)\n"
   ]
  },
  {
   "cell_type": "markdown",
   "metadata": {},
   "source": [
    "Bruker panda til konvertere string til et to_datatime-objekt for å kunne utføre matematiske opperasjoner. det er nødvendig for å kunne finne delay og arival_time."
   ]
  },
  {
   "cell_type": "code",
   "execution_count": 125,
   "metadata": {},
   "outputs": [],
   "source": [
    "df['datetime_val'] = pd.to_datetime(df['datetime_val'], errors='coerce') \n",
    "df['dep_time'] = pd.to_datetime(df['dep_time'], errors='coerce')\n",
    "df['arr_time'] = pd.to_datetime(df['arr_time'], errors='coerce')\n",
    "df['sched_arr_time'] = pd.to_datetime(df['sched_arr_time'], errors='coerce')\n",
    "#or use errors='coerce' to put a NaT value (NaT = dummy var for missing value)\n"
   ]
  },
  {
   "cell_type": "markdown",
   "metadata": {},
   "source": [
    "For hver rad hvor flyet landet neste dag legges til en dag for arrival time."
   ]
  },
  {
   "cell_type": "code",
   "execution_count": 126,
   "metadata": {},
   "outputs": [],
   "source": [
    "for index, row in df.iterrows():\n",
    "\n",
    "    if (row['arr_time']<row['dep_time']):\n",
    "        df.loc[index, 'arr_time'] = (row['arr_time'])+ datetime.timedelta(days=1)\n",
    "    if (row['sched_arr_time']<row['dep_time']):\n",
    "        df.loc[index, 'sched_arr_time'] = (row['sched_arr_time'])+ datetime.timedelta(days=1)"
   ]
  },
  {
   "cell_type": "markdown",
   "metadata": {},
   "source": [
    "Lager to nye kolonner (air_time og delay). "
   ]
  },
  {
   "cell_type": "code",
   "execution_count": 127,
   "metadata": {},
   "outputs": [],
   "source": [
    "df['air_time'] = df[\"arr_time\"]-df[\"dep_time\"]\n",
    "df['delay'] = df[\"arr_time\"]-df[\"sched_arr_time\"]"
   ]
  },
  {
   "cell_type": "code",
   "execution_count": 128,
   "metadata": {},
   "outputs": [
    {
     "data": {
      "text/html": [
       "<div>\n",
       "<style scoped>\n",
       "    .dataframe tbody tr th:only-of-type {\n",
       "        vertical-align: middle;\n",
       "    }\n",
       "\n",
       "    .dataframe tbody tr th {\n",
       "        vertical-align: top;\n",
       "    }\n",
       "\n",
       "    .dataframe thead th {\n",
       "        text-align: right;\n",
       "    }\n",
       "</style>\n",
       "<table border=\"1\" class=\"dataframe\">\n",
       "  <thead>\n",
       "    <tr style=\"text-align: right;\">\n",
       "      <th></th>\n",
       "      <th>Unnamed: 0</th>\n",
       "      <th>datetime_val</th>\n",
       "      <th>dep_time</th>\n",
       "      <th>arr_time</th>\n",
       "      <th>sched_arr_time</th>\n",
       "      <th>flight</th>\n",
       "      <th>origin</th>\n",
       "      <th>dest</th>\n",
       "      <th>air_time</th>\n",
       "      <th>delay</th>\n",
       "    </tr>\n",
       "  </thead>\n",
       "  <tbody>\n",
       "    <tr>\n",
       "      <th>0</th>\n",
       "      <td>0</td>\n",
       "      <td>2013-01-01 05:40:00</td>\n",
       "      <td>2013-01-01 05:42:00</td>\n",
       "      <td>2013-01-01 09:23:00</td>\n",
       "      <td>2013-01-01 08:50:00</td>\n",
       "      <td>1141</td>\n",
       "      <td>JFK</td>\n",
       "      <td>MIA</td>\n",
       "      <td>0 days 03:41:00</td>\n",
       "      <td>0 days 00:33:00</td>\n",
       "    </tr>\n",
       "    <tr>\n",
       "      <th>1</th>\n",
       "      <td>1</td>\n",
       "      <td>2013-01-01 06:00:00</td>\n",
       "      <td>2013-01-01 05:54:00</td>\n",
       "      <td>2013-01-01 08:12:00</td>\n",
       "      <td>2013-01-01 08:37:00</td>\n",
       "      <td>461</td>\n",
       "      <td>LGA</td>\n",
       "      <td>ATL</td>\n",
       "      <td>0 days 02:18:00</td>\n",
       "      <td>-1 days +23:35:00</td>\n",
       "    </tr>\n",
       "    <tr>\n",
       "      <th>2</th>\n",
       "      <td>2</td>\n",
       "      <td>2013-01-01 05:58:00</td>\n",
       "      <td>2013-01-01 05:54:00</td>\n",
       "      <td>2013-01-01 07:40:00</td>\n",
       "      <td>2013-01-01 07:28:00</td>\n",
       "      <td>1696</td>\n",
       "      <td>EWR</td>\n",
       "      <td>ORD</td>\n",
       "      <td>0 days 01:46:00</td>\n",
       "      <td>0 days 00:12:00</td>\n",
       "    </tr>\n",
       "    <tr>\n",
       "      <th>3</th>\n",
       "      <td>3</td>\n",
       "      <td>2013-01-01 06:00:00</td>\n",
       "      <td>2013-01-01 05:55:00</td>\n",
       "      <td>2013-01-01 09:13:00</td>\n",
       "      <td>2013-01-01 08:54:00</td>\n",
       "      <td>507</td>\n",
       "      <td>EWR</td>\n",
       "      <td>FLL</td>\n",
       "      <td>0 days 03:18:00</td>\n",
       "      <td>0 days 00:19:00</td>\n",
       "    </tr>\n",
       "    <tr>\n",
       "      <th>4</th>\n",
       "      <td>4</td>\n",
       "      <td>2013-01-01 06:00:00</td>\n",
       "      <td>2013-01-01 05:57:00</td>\n",
       "      <td>2013-01-01 08:38:00</td>\n",
       "      <td>2013-01-01 08:46:00</td>\n",
       "      <td>79</td>\n",
       "      <td>JFK</td>\n",
       "      <td>MCO</td>\n",
       "      <td>0 days 02:41:00</td>\n",
       "      <td>-1 days +23:52:00</td>\n",
       "    </tr>\n",
       "    <tr>\n",
       "      <th>...</th>\n",
       "      <td>...</td>\n",
       "      <td>...</td>\n",
       "      <td>...</td>\n",
       "      <td>...</td>\n",
       "      <td>...</td>\n",
       "      <td>...</td>\n",
       "      <td>...</td>\n",
       "      <td>...</td>\n",
       "      <td>...</td>\n",
       "      <td>...</td>\n",
       "    </tr>\n",
       "    <tr>\n",
       "      <th>121422</th>\n",
       "      <td>123979</td>\n",
       "      <td>2013-09-30 21:37:00</td>\n",
       "      <td>2013-09-30 21:47:00</td>\n",
       "      <td>2013-10-01 00:30:00</td>\n",
       "      <td>2013-10-01 00:27:00</td>\n",
       "      <td>1371</td>\n",
       "      <td>LGA</td>\n",
       "      <td>FLL</td>\n",
       "      <td>0 days 02:43:00</td>\n",
       "      <td>0 days 00:03:00</td>\n",
       "    </tr>\n",
       "    <tr>\n",
       "      <th>121423</th>\n",
       "      <td>123980</td>\n",
       "      <td>2013-09-30 21:56:00</td>\n",
       "      <td>2013-09-30 21:49:00</td>\n",
       "      <td>2013-09-30 22:45:00</td>\n",
       "      <td>2013-09-30 23:08:00</td>\n",
       "      <td>523</td>\n",
       "      <td>EWR</td>\n",
       "      <td>BOS</td>\n",
       "      <td>0 days 00:56:00</td>\n",
       "      <td>-1 days +23:37:00</td>\n",
       "    </tr>\n",
       "    <tr>\n",
       "      <th>121424</th>\n",
       "      <td>123981</td>\n",
       "      <td>2013-09-30 21:13:00</td>\n",
       "      <td>2013-09-30 22:33:00</td>\n",
       "      <td>2013-10-01 01:12:00</td>\n",
       "      <td>2013-10-01 00:30:00</td>\n",
       "      <td>471</td>\n",
       "      <td>EWR</td>\n",
       "      <td>SFO</td>\n",
       "      <td>0 days 02:39:00</td>\n",
       "      <td>0 days 00:42:00</td>\n",
       "    </tr>\n",
       "    <tr>\n",
       "      <th>121425</th>\n",
       "      <td>123982</td>\n",
       "      <td>2013-09-30 20:01:00</td>\n",
       "      <td>2013-09-30 22:35:00</td>\n",
       "      <td>2013-10-01 00:59:00</td>\n",
       "      <td>2013-09-30 22:49:00</td>\n",
       "      <td>1083</td>\n",
       "      <td>JFK</td>\n",
       "      <td>MCO</td>\n",
       "      <td>0 days 02:24:00</td>\n",
       "      <td>0 days 02:10:00</td>\n",
       "    </tr>\n",
       "    <tr>\n",
       "      <th>121426</th>\n",
       "      <td>123983</td>\n",
       "      <td>2013-09-30 22:55:00</td>\n",
       "      <td>2013-09-30 23:07:00</td>\n",
       "      <td>2013-09-30 23:59:00</td>\n",
       "      <td>2013-09-30 23:58:00</td>\n",
       "      <td>718</td>\n",
       "      <td>JFK</td>\n",
       "      <td>BOS</td>\n",
       "      <td>0 days 00:52:00</td>\n",
       "      <td>0 days 00:01:00</td>\n",
       "    </tr>\n",
       "  </tbody>\n",
       "</table>\n",
       "<p>121427 rows × 10 columns</p>\n",
       "</div>"
      ],
      "text/plain": [
       "        Unnamed: 0        datetime_val            dep_time  \\\n",
       "0                0 2013-01-01 05:40:00 2013-01-01 05:42:00   \n",
       "1                1 2013-01-01 06:00:00 2013-01-01 05:54:00   \n",
       "2                2 2013-01-01 05:58:00 2013-01-01 05:54:00   \n",
       "3                3 2013-01-01 06:00:00 2013-01-01 05:55:00   \n",
       "4                4 2013-01-01 06:00:00 2013-01-01 05:57:00   \n",
       "...            ...                 ...                 ...   \n",
       "121422      123979 2013-09-30 21:37:00 2013-09-30 21:47:00   \n",
       "121423      123980 2013-09-30 21:56:00 2013-09-30 21:49:00   \n",
       "121424      123981 2013-09-30 21:13:00 2013-09-30 22:33:00   \n",
       "121425      123982 2013-09-30 20:01:00 2013-09-30 22:35:00   \n",
       "121426      123983 2013-09-30 22:55:00 2013-09-30 23:07:00   \n",
       "\n",
       "                  arr_time      sched_arr_time  flight origin dest  \\\n",
       "0      2013-01-01 09:23:00 2013-01-01 08:50:00    1141    JFK  MIA   \n",
       "1      2013-01-01 08:12:00 2013-01-01 08:37:00     461    LGA  ATL   \n",
       "2      2013-01-01 07:40:00 2013-01-01 07:28:00    1696    EWR  ORD   \n",
       "3      2013-01-01 09:13:00 2013-01-01 08:54:00     507    EWR  FLL   \n",
       "4      2013-01-01 08:38:00 2013-01-01 08:46:00      79    JFK  MCO   \n",
       "...                    ...                 ...     ...    ...  ...   \n",
       "121422 2013-10-01 00:30:00 2013-10-01 00:27:00    1371    LGA  FLL   \n",
       "121423 2013-09-30 22:45:00 2013-09-30 23:08:00     523    EWR  BOS   \n",
       "121424 2013-10-01 01:12:00 2013-10-01 00:30:00     471    EWR  SFO   \n",
       "121425 2013-10-01 00:59:00 2013-09-30 22:49:00    1083    JFK  MCO   \n",
       "121426 2013-09-30 23:59:00 2013-09-30 23:58:00     718    JFK  BOS   \n",
       "\n",
       "              air_time             delay  \n",
       "0      0 days 03:41:00   0 days 00:33:00  \n",
       "1      0 days 02:18:00 -1 days +23:35:00  \n",
       "2      0 days 01:46:00   0 days 00:12:00  \n",
       "3      0 days 03:18:00   0 days 00:19:00  \n",
       "4      0 days 02:41:00 -1 days +23:52:00  \n",
       "...                ...               ...  \n",
       "121422 0 days 02:43:00   0 days 00:03:00  \n",
       "121423 0 days 00:56:00 -1 days +23:37:00  \n",
       "121424 0 days 02:39:00   0 days 00:42:00  \n",
       "121425 0 days 02:24:00   0 days 02:10:00  \n",
       "121426 0 days 00:52:00   0 days 00:01:00  \n",
       "\n",
       "[121427 rows x 10 columns]"
      ]
     },
     "execution_count": 128,
     "metadata": {},
     "output_type": "execute_result"
    }
   ],
   "source": [
    "df"
   ]
  },
  {
   "cell_type": "markdown",
   "metadata": {},
   "source": [
    "Beregner forsinkelse i prosent"
   ]
  },
  {
   "cell_type": "code",
   "execution_count": 131,
   "metadata": {},
   "outputs": [],
   "source": [
    "df[\"percent_delay\"] = (100 * df['delay'])/df['air_time']"
   ]
  },
  {
   "cell_type": "markdown",
   "metadata": {},
   "source": [
    "Viser de fem første radene"
   ]
  },
  {
   "cell_type": "code",
   "execution_count": 132,
   "metadata": {},
   "outputs": [
    {
     "data": {
      "text/html": [
       "<div>\n",
       "<style scoped>\n",
       "    .dataframe tbody tr th:only-of-type {\n",
       "        vertical-align: middle;\n",
       "    }\n",
       "\n",
       "    .dataframe tbody tr th {\n",
       "        vertical-align: top;\n",
       "    }\n",
       "\n",
       "    .dataframe thead th {\n",
       "        text-align: right;\n",
       "    }\n",
       "</style>\n",
       "<table border=\"1\" class=\"dataframe\">\n",
       "  <thead>\n",
       "    <tr style=\"text-align: right;\">\n",
       "      <th></th>\n",
       "      <th>Unnamed: 0</th>\n",
       "      <th>datetime_val</th>\n",
       "      <th>dep_time</th>\n",
       "      <th>arr_time</th>\n",
       "      <th>sched_arr_time</th>\n",
       "      <th>flight</th>\n",
       "      <th>origin</th>\n",
       "      <th>dest</th>\n",
       "      <th>air_time</th>\n",
       "      <th>delay</th>\n",
       "      <th>percent_delay</th>\n",
       "    </tr>\n",
       "  </thead>\n",
       "  <tbody>\n",
       "    <tr>\n",
       "      <th>0</th>\n",
       "      <td>0</td>\n",
       "      <td>2013-01-01 05:40:00</td>\n",
       "      <td>2013-01-01 05:42:00</td>\n",
       "      <td>2013-01-01 09:23:00</td>\n",
       "      <td>2013-01-01 08:50:00</td>\n",
       "      <td>1141</td>\n",
       "      <td>JFK</td>\n",
       "      <td>MIA</td>\n",
       "      <td>0 days 03:41:00</td>\n",
       "      <td>0 days 00:33:00</td>\n",
       "      <td>14.932127</td>\n",
       "    </tr>\n",
       "    <tr>\n",
       "      <th>1</th>\n",
       "      <td>1</td>\n",
       "      <td>2013-01-01 06:00:00</td>\n",
       "      <td>2013-01-01 05:54:00</td>\n",
       "      <td>2013-01-01 08:12:00</td>\n",
       "      <td>2013-01-01 08:37:00</td>\n",
       "      <td>461</td>\n",
       "      <td>LGA</td>\n",
       "      <td>ATL</td>\n",
       "      <td>0 days 02:18:00</td>\n",
       "      <td>-1 days +23:35:00</td>\n",
       "      <td>-18.115942</td>\n",
       "    </tr>\n",
       "    <tr>\n",
       "      <th>2</th>\n",
       "      <td>2</td>\n",
       "      <td>2013-01-01 05:58:00</td>\n",
       "      <td>2013-01-01 05:54:00</td>\n",
       "      <td>2013-01-01 07:40:00</td>\n",
       "      <td>2013-01-01 07:28:00</td>\n",
       "      <td>1696</td>\n",
       "      <td>EWR</td>\n",
       "      <td>ORD</td>\n",
       "      <td>0 days 01:46:00</td>\n",
       "      <td>0 days 00:12:00</td>\n",
       "      <td>11.320755</td>\n",
       "    </tr>\n",
       "    <tr>\n",
       "      <th>3</th>\n",
       "      <td>3</td>\n",
       "      <td>2013-01-01 06:00:00</td>\n",
       "      <td>2013-01-01 05:55:00</td>\n",
       "      <td>2013-01-01 09:13:00</td>\n",
       "      <td>2013-01-01 08:54:00</td>\n",
       "      <td>507</td>\n",
       "      <td>EWR</td>\n",
       "      <td>FLL</td>\n",
       "      <td>0 days 03:18:00</td>\n",
       "      <td>0 days 00:19:00</td>\n",
       "      <td>9.595960</td>\n",
       "    </tr>\n",
       "    <tr>\n",
       "      <th>4</th>\n",
       "      <td>4</td>\n",
       "      <td>2013-01-01 06:00:00</td>\n",
       "      <td>2013-01-01 05:57:00</td>\n",
       "      <td>2013-01-01 08:38:00</td>\n",
       "      <td>2013-01-01 08:46:00</td>\n",
       "      <td>79</td>\n",
       "      <td>JFK</td>\n",
       "      <td>MCO</td>\n",
       "      <td>0 days 02:41:00</td>\n",
       "      <td>-1 days +23:52:00</td>\n",
       "      <td>-4.968944</td>\n",
       "    </tr>\n",
       "  </tbody>\n",
       "</table>\n",
       "</div>"
      ],
      "text/plain": [
       "   Unnamed: 0        datetime_val            dep_time            arr_time  \\\n",
       "0           0 2013-01-01 05:40:00 2013-01-01 05:42:00 2013-01-01 09:23:00   \n",
       "1           1 2013-01-01 06:00:00 2013-01-01 05:54:00 2013-01-01 08:12:00   \n",
       "2           2 2013-01-01 05:58:00 2013-01-01 05:54:00 2013-01-01 07:40:00   \n",
       "3           3 2013-01-01 06:00:00 2013-01-01 05:55:00 2013-01-01 09:13:00   \n",
       "4           4 2013-01-01 06:00:00 2013-01-01 05:57:00 2013-01-01 08:38:00   \n",
       "\n",
       "       sched_arr_time  flight origin dest        air_time             delay  \\\n",
       "0 2013-01-01 08:50:00    1141    JFK  MIA 0 days 03:41:00   0 days 00:33:00   \n",
       "1 2013-01-01 08:37:00     461    LGA  ATL 0 days 02:18:00 -1 days +23:35:00   \n",
       "2 2013-01-01 07:28:00    1696    EWR  ORD 0 days 01:46:00   0 days 00:12:00   \n",
       "3 2013-01-01 08:54:00     507    EWR  FLL 0 days 03:18:00   0 days 00:19:00   \n",
       "4 2013-01-01 08:46:00      79    JFK  MCO 0 days 02:41:00 -1 days +23:52:00   \n",
       "\n",
       "   percent_delay  \n",
       "0      14.932127  \n",
       "1     -18.115942  \n",
       "2      11.320755  \n",
       "3       9.595960  \n",
       "4      -4.968944  "
      ]
     },
     "execution_count": 132,
     "metadata": {},
     "output_type": "execute_result"
    }
   ],
   "source": [
    "df.head()"
   ]
  },
  {
   "cell_type": "markdown",
   "metadata": {},
   "source": [
    "Viser statistikk for tidsforsinkelse i prosent.\n",
    "Tidsforsinkelsen er egentlig tidsavvik fordi det er tatt med negative tidsforsinkelser."
   ]
  },
  {
   "cell_type": "code",
   "execution_count": 133,
   "metadata": {},
   "outputs": [
    {
     "data": {
      "text/plain": [
       "count    121373.000000\n",
       "mean        -29.735566\n",
       "std         206.591444\n",
       "min       -2919.565217\n",
       "25%         -14.838710\n",
       "50%          -4.864865\n",
       "75%           6.172840\n",
       "max         100.000000\n",
       "Name: percent_delay, dtype: float64"
      ]
     },
     "execution_count": 133,
     "metadata": {},
     "output_type": "execute_result"
    }
   ],
   "source": [
    "df[\"percent_delay\"].describe()"
   ]
  },
  {
   "cell_type": "markdown",
   "metadata": {},
   "source": [
    "Viser tidforsinkelse som plotboks"
   ]
  },
  {
   "cell_type": "code",
   "execution_count": 134,
   "metadata": {},
   "outputs": [
    {
     "data": {
      "text/plain": [
       "<Axes: >"
      ]
     },
     "execution_count": 134,
     "metadata": {},
     "output_type": "execute_result"
    },
    {
     "data": {
      "image/png": "[encoded data removed]",
      "text/plain": [
       "<Figure size 640x480 with 1 Axes>"
      ]
     },
     "metadata": {},
     "output_type": "display_data"
    }
   ],
   "source": [
    "df[\"percent_delay\"].plot.box()"
   ]
  },
  {
   "cell_type": "markdown",
   "metadata": {},
   "source": [
    "Lager er funskjon som fjerner verdier som er ekstreme."
   ]
  },
  {
   "cell_type": "code",
   "execution_count": 135,
   "metadata": {},
   "outputs": [],
   "source": [
    "from pandas.api.types import is_numeric_dtype\n",
    "def remove_outlier(df):\n",
    "    low = .05\n",
    "    high = .95\n",
    "    quant_df = df.quantile([low, high])\n",
    "    if is_numeric_dtype(df):\n",
    "        df = df[(df > quant_df.loc[low]) & (df < quant_df.loc[high])]\n",
    "    return df"
   ]
  },
  {
   "cell_type": "markdown",
   "metadata": {},
   "source": [
    "Bruker funksjonen for kolonnen precent_delay "
   ]
  },
  {
   "cell_type": "code",
   "execution_count": 136,
   "metadata": {},
   "outputs": [],
   "source": [
    "df[\"percent_delay\"] = remove_outlier(df[\"percent_delay\"])"
   ]
  },
  {
   "cell_type": "markdown",
   "metadata": {},
   "source": [
    "Viser statistikk for den filtrete dataen"
   ]
  },
  {
   "cell_type": "code",
   "execution_count": 139,
   "metadata": {},
   "outputs": [
    {
     "data": {
      "text/plain": [
       "count    109235.000000\n",
       "mean         -3.763476\n",
       "std          15.290651\n",
       "min         -39.333333\n",
       "25%         -13.636364\n",
       "50%          -4.864865\n",
       "75%           4.694836\n",
       "max          42.424242\n",
       "Name: percent_delay, dtype: float64"
      ]
     },
     "execution_count": 139,
     "metadata": {},
     "output_type": "execute_result"
    }
   ],
   "source": [
    "df[\"percent_delay\"].describe()"
   ]
  }
 ],
 "metadata": {
  "kernelspec": {
   "display_name": "lab3",
   "language": "python",
   "name": "python3"
  },
  "language_info": {
   "codemirror_mode": {
    "name": "ipython",
    "version": 3
   },
   "file_extension": ".py",
   "mimetype": "text/x-python",
   "name": "python",
   "nbconvert_exporter": "python",
   "pygments_lexer": "ipython3",
   "version": "3.11.5"
  },
  "orig_nbformat": 4
 },
 "nbformat": 4,
 "nbformat_minor": 2
}
